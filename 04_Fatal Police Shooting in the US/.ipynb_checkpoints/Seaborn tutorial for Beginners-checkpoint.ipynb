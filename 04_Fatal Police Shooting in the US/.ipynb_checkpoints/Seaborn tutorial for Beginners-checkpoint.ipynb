{
 "cells": [
  {
   "cell_type": "markdown",
   "metadata": {},
   "source": [
    "# 개요\n",
    "\n",
    "> ref1 : [Black lives matter - 위키백과](https://en.wikipedia.org/wiki/Black_Lives_Matter)\n",
    "> \n",
    "> ref2 : [블랙 라이브즈 매터 - 네이버 지식백과](https://terms.naver.com/entry.nhn?docId=3440367&cid=43667&categoryId=43667)\n",
    "\n",
    "__Black Lives Matter__(블랙 라이브스 매터, 흑인의 생명은 소중하다)는 아프리카계 미국인을 향한 폭력과 제도적 인종주의에 반대하는 사회운동으로 2012년 미국에서 흑인 소년을 죽인 백인 방범요원이 이듬해 무죄 평결을 받고 풀려나면서 시작되었다고 한다. 즉, 흑인에 대한 과도한 공권력 사용에 항의할 때 사용되는 시위 구호이기도 하다.\n",
    "\n",
    "2020년 5월 26일에 발생한 조지 플로이드(George Floyd) 사망 사건으로 인해 다시금 세계적 이슈로 떠오르고 있다."
   ]
  },
  {
   "cell_type": "markdown",
   "metadata": {},
   "source": [
    "__Fatal Police Shooting in US__ 에서는 2014년 8월 9일 미국 미주리주 퍼거슨(Ferguson, Missouri)에서 일어난 마이클 브라운(Michael Brown) 사망 사건과 관련된 데이터를 다루고 있다.\n",
    "\n",
    "<<워싱턴 포스트(Washington Post)>>는 2015년 1월 1일부터 근무 중인 경찰관의 미국 내 모든 총격사건을 데이터베이스로 작성해 왔다.\n",
    "경찰 살인이 종합적으로 문서화되지 않은 데다 경찰의 잔혹성에 대한 통계 자료도 훨씬 적어 이 시기 이전부터 믿을 만한 자료를 찾기가 어렵다. 결과적으로, 수많은 사건들이 보고되지 않게 된다.\n",
    "\n",
    "\n",
    "<<워싱턴 포스트>>는 사망자의 인종, 나이, 성별, 무장 여부, 피해자가 정신건강 위기를 겪고 있는지 등 살인에 대한 12가지 이상의 세부사항을 추적하고 있다. 그들은 이 정보를 법 집행 웹사이트, 지역 새 보고서, 소셜 미디어에서 수집했으며 \"Killed by police(경찰에 의해 살해됨)\"과 \"Fatal Encounters(죽음을 초래함)\"과 같은 독립적인 데이터베이스를 감시함으로써 수집했다.\n",
    "\n",
    "\n",
    "미국 경찰관이 살인을 한 데이터 PoliceKillingsUS.csv 외에도,\n",
    "\n",
    "4개의 추가 데이터 집합이 있다. \n",
    "- 빈곤율 (poverty rate) - PercentagePeopleBelowPovertyLevel.csv\n",
    "- 고등학교 졸업율 (high school graduation rate) - PercentOver25CompletedHighSchool.csv\n",
    "- 중위 가계 소득 (median household income) - MedianHouseholdIncome2015.csv\n",
    "- 인종 인구 통계에 대한 미국의 인구 조사 (racial demographics) - ShareRaceByCity.csv\n"
   ]
  },
  {
   "cell_type": "markdown",
   "metadata": {},
   "source": [
    "# Env Setting\n",
    "\n"
   ]
  },
  {
   "cell_type": "code",
   "execution_count": 2,
   "metadata": {
    "ExecuteTime": {
     "end_time": "2020-06-11T04:50:32.345665Z",
     "start_time": "2020-06-11T04:50:32.338482Z"
    }
   },
   "outputs": [],
   "source": [
    "import numpy as np # linear algebra\n",
    "import pandas as pd # data processing, CSV file I/O (e.g. pd.read_csv)\n",
    "import seaborn as sns\n",
    "import matplotlib.pyplot as plt\n",
    "from collections import Counter\n",
    "%matplotlib inline"
   ]
  },
  {
   "cell_type": "code",
   "execution_count": 8,
   "metadata": {
    "ExecuteTime": {
     "end_time": "2020-06-11T04:55:22.930122Z",
     "start_time": "2020-06-11T04:55:22.892448Z"
    }
   },
   "outputs": [
    {
     "name": "stdout",
     "output_type": "stream",
     "text": [
      "MedianHouseholdIncome2015.csv\n",
      "PercentOver25CompletedHighSchool.csv\n",
      "PercentagePeopleBelowPovertyLevel.csv\n",
      "PoliceKillingsUS.csv\n",
      "ShareRaceByCity.csv\n",
      "\n"
     ]
    }
   ],
   "source": [
    "import warnings\n",
    "warnings.filterwarnings('ignore') \n",
    "\n",
    "# \"input/\" 디렉토리에 입력 데이터 파일이 있는지 확인\n",
    "from subprocess import check_output\n",
    "print(check_output([\"ls\", \"input\"]).decode(\"utf8\"))"
   ]
  },
  {
   "cell_type": "markdown",
   "metadata": {},
   "source": [
    "# Read Datas"
   ]
  },
  {
   "cell_type": "code",
   "execution_count": 9,
   "metadata": {
    "ExecuteTime": {
     "end_time": "2020-06-11T04:57:58.680361Z",
     "start_time": "2020-06-11T04:57:58.438621Z"
    }
   },
   "outputs": [
    {
     "name": "stdout",
     "output_type": "stream",
     "text": [
      "Reading complete!\n"
     ]
    }
   ],
   "source": [
    "# Read datas\n",
    "median_house_hold_in_come = pd.read_csv('input/MedianHouseholdIncome2015.csv', encoding=\"windows-1252\")\n",
    "percentage_people_below_poverty_level = pd.read_csv('input/PercentagePeopleBelowPovertyLevel.csv', encoding=\"windows-1252\")\n",
    "percent_over_25_completed_highSchool = pd.read_csv('input/PercentOver25CompletedHighSchool.csv', encoding=\"windows-1252\")\n",
    "share_race_city = pd.read_csv('input/ShareRaceByCity.csv', encoding=\"windows-1252\")\n",
    "kill = pd.read_csv('input/PoliceKillingsUS.csv', encoding=\"windows-1252\")\n",
    "\n",
    "print(\"Reading complete!\")"
   ]
  },
  {
   "cell_type": "markdown",
   "metadata": {},
   "source": [
    "## Detail about data\n",
    "\n",
    "5개의 입력 데이터에 대해 간단히 살펴보자\n",
    "\n",
    "1. MedianHouseholdIncome2015.csv\n",
    "2. PercentOver25CompletedHighSchool.csv\n",
    "3. PercentagePeopleBelowPovertyLevel.csv\n",
    "4. PoliceKillingsUS.csv\n",
    "5. ShareRaceByCity.csv"
   ]
  },
  {
   "cell_type": "markdown",
   "metadata": {},
   "source": [
    "> 참고용 그림\n",
    "\n",
    "![US states](https://upload.wikimedia.org/wikipedia/commons/thumb/5/57/United_States_Map_in_Korean.jpg/1200px-United_States_Map_in_Korean.jpg)"
   ]
  },
  {
   "cell_type": "markdown",
   "metadata": {},
   "source": [
    "### MedianHouseholdIncome2015.csv\n",
    "\n",
    "모든 미국 도시의 중위 가계 소득을 나타내는 미국 인구조사국(US Census) 데이터.\n",
    "\n",
    "Features:\n",
    "- \"Geographic Area\": 주(state)\n",
    "- \"City\": 도시\n",
    "- \"Median Income\": 지정된 도시의 중위 가구 소득."
   ]
  },
  {
   "cell_type": "code",
   "execution_count": 11,
   "metadata": {
    "ExecuteTime": {
     "end_time": "2020-06-11T05:51:19.343656Z",
     "start_time": "2020-06-11T05:51:19.320408Z"
    }
   },
   "outputs": [
    {
     "name": "stdout",
     "output_type": "stream",
     "text": [
      "<class 'pandas.core.frame.DataFrame'>\n",
      "RangeIndex: 29322 entries, 0 to 29321\n",
      "Data columns (total 3 columns):\n",
      " #   Column           Non-Null Count  Dtype \n",
      "---  ------           --------------  ----- \n",
      " 0   Geographic Area  29322 non-null  object\n",
      " 1   City             29322 non-null  object\n",
      " 2   Median Income    29271 non-null  object\n",
      "dtypes: object(3)\n",
      "memory usage: 687.4+ KB\n"
     ]
    }
   ],
   "source": [
    "median_house_hold_in_come.info()"
   ]
  },
  {
   "cell_type": "markdown",
   "metadata": {
    "ExecuteTime": {
     "end_time": "2020-06-11T05:58:21.704868Z",
     "start_time": "2020-06-11T05:58:21.691051Z"
    }
   },
   "source": [
    "### PercentOver25CompletedHighSchool.csv\n",
    "\n",
    "미국의 모든 도시에서 25세 이상의 고등학교 졸업률을 나타내는 US Census 데이터.\n",
    "\n",
    "Features:\n",
    "- \"Geographic area\": 주(State)\n",
    "- \"City\": 도시\n",
    "- \"percent_completed_hs\": 해당 도시에서 고등학교를 졸업한 25세 이상의 인구 비율"
   ]
  },
  {
   "cell_type": "code",
   "execution_count": 15,
   "metadata": {
    "ExecuteTime": {
     "end_time": "2020-06-11T06:17:33.345328Z",
     "start_time": "2020-06-11T06:17:33.292870Z"
    }
   },
   "outputs": [
    {
     "name": "stdout",
     "output_type": "stream",
     "text": [
      "<class 'pandas.core.frame.DataFrame'>\n",
      "RangeIndex: 29329 entries, 0 to 29328\n",
      "Data columns (total 3 columns):\n",
      " #   Column                Non-Null Count  Dtype \n",
      "---  ------                --------------  ----- \n",
      " 0   Geographic Area       29329 non-null  object\n",
      " 1   City                  29329 non-null  object\n",
      " 2   percent_completed_hs  29329 non-null  object\n",
      "dtypes: object(3)\n",
      "memory usage: 687.5+ KB\n"
     ]
    }
   ],
   "source": [
    "percent_over_25_completed_highSchool.info()"
   ]
  },
  {
   "cell_type": "markdown",
   "metadata": {},
   "source": [
    "### PercentagePeopleBelowPovertyLevel.csv\n",
    "\n",
    "> 원본 데이터 설명(detail)에서는 중위 소득 데이터와 같은 설명으로 잘못 표기된 듯 하다\n",
    "\n",
    "모든 미국 도시의 빈곤층 비율을 나타내는 데이터\n",
    "\n",
    "Features:\n",
    "- \"Geographic area\": 주(State)\n",
    "- \"City\": 도시\n",
    "- \"poverty_rate\": 해당 도시의 빈곤층 비율"
   ]
  },
  {
   "cell_type": "code",
   "execution_count": 16,
   "metadata": {
    "ExecuteTime": {
     "end_time": "2020-06-11T06:17:52.713795Z",
     "start_time": "2020-06-11T06:17:52.688523Z"
    }
   },
   "outputs": [
    {
     "name": "stdout",
     "output_type": "stream",
     "text": [
      "<class 'pandas.core.frame.DataFrame'>\n",
      "RangeIndex: 29329 entries, 0 to 29328\n",
      "Data columns (total 3 columns):\n",
      " #   Column           Non-Null Count  Dtype \n",
      "---  ------           --------------  ----- \n",
      " 0   Geographic Area  29329 non-null  object\n",
      " 1   City             29329 non-null  object\n",
      " 2   poverty_rate     29329 non-null  object\n",
      "dtypes: object(3)\n",
      "memory usage: 687.5+ KB\n"
     ]
    }
   ],
   "source": [
    "percentage_people_below_poverty_level.info()"
   ]
  },
  {
   "cell_type": "markdown",
   "metadata": {},
   "source": [
    "### PoliceKillingsUS.csv\n",
    "\n",
    "> 이것 역시 원본 데이터의 설명이 잘못되어 있음 (잘못 해석한 부분이 있을 수 있음)\n",
    "\n",
    "경찰관에 의해 죽은 사망자들에 대한 데이터\n",
    "\n",
    "Features:\n",
    "- \"id\" : 인덱스 값\n",
    "- \"name\" : 피해자 이름\n",
    "- \"date\" : 사건 날짜\n",
    "- \"manner_of_death\" : 죽은 원인\n",
    "- \"armed\" : 무장 상태\n",
    "- \"age\" : 피해자 나이\n",
    "- \"gender\" : 성별\n",
    "- \"race\" : 인종\n",
    "- \"city\" : 출신 도시\n",
    "- \"state\" : 출신 지역\n",
    "- \"signs_of_mental_illness\" : 정신병 증상 여부\n",
    "- \"threat_level\" : 위협 수준\n",
    "- \"flee\" : 도망 여부\n",
    "- \"body_camera\" : 바디 카메라 여부"
   ]
  },
  {
   "cell_type": "code",
   "execution_count": 23,
   "metadata": {
    "ExecuteTime": {
     "end_time": "2020-06-11T06:33:14.070847Z",
     "start_time": "2020-06-11T06:33:14.049788Z"
    }
   },
   "outputs": [
    {
     "name": "stdout",
     "output_type": "stream",
     "text": [
      "<class 'pandas.core.frame.DataFrame'>\n",
      "RangeIndex: 2535 entries, 0 to 2534\n",
      "Data columns (total 14 columns):\n",
      " #   Column                   Non-Null Count  Dtype  \n",
      "---  ------                   --------------  -----  \n",
      " 0   id                       2535 non-null   int64  \n",
      " 1   name                     2535 non-null   object \n",
      " 2   date                     2535 non-null   object \n",
      " 3   manner_of_death          2535 non-null   object \n",
      " 4   armed                    2526 non-null   object \n",
      " 5   age                      2458 non-null   float64\n",
      " 6   gender                   2535 non-null   object \n",
      " 7   race                     2340 non-null   object \n",
      " 8   city                     2535 non-null   object \n",
      " 9   state                    2535 non-null   object \n",
      " 10  signs_of_mental_illness  2535 non-null   bool   \n",
      " 11  threat_level             2535 non-null   object \n",
      " 12  flee                     2470 non-null   object \n",
      " 13  body_camera              2535 non-null   bool   \n",
      "dtypes: bool(2), float64(1), int64(1), object(10)\n",
      "memory usage: 242.7+ KB\n"
     ]
    }
   ],
   "source": [
    "kill.info()"
   ]
  },
  {
   "cell_type": "markdown",
   "metadata": {},
   "source": [
    "### ShareRaceByCity.csv\n",
    "\n",
    "미국 모든 도시의 인종 인구 통계에 관한 US Census 데이터\n",
    "\n",
    "Features:\n",
    "- \"Geographic area\": 주(State)\n",
    "- \"City\": 도시\n",
    "- \"share_white\": 백인 비율\n",
    "- \"share_black\": 흑인 비율\n",
    "- \"share_native_american\": 미국 원주민 비율\n",
    "- \"share_asian\": 아시안 비율\n",
    "- \"share_hispanic\": 히스패닉 비율"
   ]
  },
  {
   "cell_type": "code",
   "execution_count": 17,
   "metadata": {
    "ExecuteTime": {
     "end_time": "2020-06-11T06:23:55.638372Z",
     "start_time": "2020-06-11T06:23:55.606658Z"
    }
   },
   "outputs": [
    {
     "name": "stdout",
     "output_type": "stream",
     "text": [
      "<class 'pandas.core.frame.DataFrame'>\n",
      "RangeIndex: 29268 entries, 0 to 29267\n",
      "Data columns (total 7 columns):\n",
      " #   Column                 Non-Null Count  Dtype \n",
      "---  ------                 --------------  ----- \n",
      " 0   Geographic area        29268 non-null  object\n",
      " 1   City                   29268 non-null  object\n",
      " 2   share_white            29268 non-null  object\n",
      " 3   share_black            29268 non-null  object\n",
      " 4   share_native_american  29268 non-null  object\n",
      " 5   share_asian            29268 non-null  object\n",
      " 6   share_hispanic         29268 non-null  object\n",
      "dtypes: object(7)\n",
      "memory usage: 1.6+ MB\n"
     ]
    }
   ],
   "source": [
    "share_race_city.info()"
   ]
  },
  {
   "cell_type": "markdown",
   "metadata": {},
   "source": [
    "# EDA plan\n",
    "\n",
    "미국에 대한 전반적인 분석을 간단히 하고 메인 데이터인 PoliceKillingsUS와 연계하여 분석한다 \n",
    "\n",
    "- 미국 통계 분석\n",
    "    1. 각 state의 빈곤율\n",
    "    2. 가장 일반적인 15명의 사망자의 이름 또는 성\n",
    "    3. State에서 25세 이상 고졸 비율\n",
    "    4. 흑인, 백인, 원주민, 아시아, 히스패닉 인종에 따른 각 state 인구 비율\n",
    "    5. 고등학교 졸업률 vs 빈곤율 비교\n",
    "- 경찰의 살인 사건\n",
    "    1. PoliceKillingsUS 데이터의 각 속성 분석\n",
    "    2. 사망자 인종 비율\n",
    "    3. 각 state별 사망자 수"
   ]
  },
  {
   "cell_type": "markdown",
   "metadata": {},
   "source": [
    "# EDA with Visualization"
   ]
  },
  {
   "cell_type": "markdown",
   "metadata": {},
   "source": [
    "## Poverty rate of each state (빈곤율)"
   ]
  },
  {
   "cell_type": "code",
   "execution_count": 63,
   "metadata": {
    "ExecuteTime": {
     "end_time": "2020-06-11T07:33:10.408567Z",
     "start_time": "2020-06-11T07:33:10.382607Z"
    }
   },
   "outputs": [
    {
     "data": {
      "text/html": [
       "<div>\n",
       "<style scoped>\n",
       "    .dataframe tbody tr th:only-of-type {\n",
       "        vertical-align: middle;\n",
       "    }\n",
       "\n",
       "    .dataframe tbody tr th {\n",
       "        vertical-align: top;\n",
       "    }\n",
       "\n",
       "    .dataframe thead th {\n",
       "        text-align: right;\n",
       "    }\n",
       "</style>\n",
       "<table border=\"1\" class=\"dataframe\">\n",
       "  <thead>\n",
       "    <tr style=\"text-align: right;\">\n",
       "      <th></th>\n",
       "      <th>poverty_rate</th>\n",
       "    </tr>\n",
       "  </thead>\n",
       "  <tbody>\n",
       "    <tr>\n",
       "      <th>count</th>\n",
       "      <td>29329.000000</td>\n",
       "    </tr>\n",
       "    <tr>\n",
       "      <th>mean</th>\n",
       "      <td>16.331259</td>\n",
       "    </tr>\n",
       "    <tr>\n",
       "      <th>std</th>\n",
       "      <td>13.202495</td>\n",
       "    </tr>\n",
       "    <tr>\n",
       "      <th>min</th>\n",
       "      <td>0.000000</td>\n",
       "    </tr>\n",
       "    <tr>\n",
       "      <th>25%</th>\n",
       "      <td>7.000000</td>\n",
       "    </tr>\n",
       "    <tr>\n",
       "      <th>50%</th>\n",
       "      <td>13.600000</td>\n",
       "    </tr>\n",
       "    <tr>\n",
       "      <th>75%</th>\n",
       "      <td>22.400000</td>\n",
       "    </tr>\n",
       "    <tr>\n",
       "      <th>max</th>\n",
       "      <td>100.000000</td>\n",
       "    </tr>\n",
       "  </tbody>\n",
       "</table>\n",
       "</div>"
      ],
      "text/plain": [
       "       poverty_rate\n",
       "count  29329.000000\n",
       "mean      16.331259\n",
       "std       13.202495\n",
       "min        0.000000\n",
       "25%        7.000000\n",
       "50%       13.600000\n",
       "75%       22.400000\n",
       "max      100.000000"
      ]
     },
     "execution_count": 63,
     "metadata": {},
     "output_type": "execute_result"
    }
   ],
   "source": [
    "percentage_people_below_poverty_level.describe()"
   ]
  },
  {
   "cell_type": "markdown",
   "metadata": {},
   "source": [
    "```\n",
    "데이터를 자세히 살펴보면 __poverty_rate__ 속성은 float64 데이터 타입을 가지고 있는데 1% 정도가 '-' 속성값을 가진다.\n",
    "\n",
    "또한 빈곤율이 어떻게 계산되는 건지 잘 모르는 문제는... 잘 모르겠다ㅠ\n",
    "```\n",
    "\n",
    "빈곤율이 최대 100%에서 최소 0%이며 평균은 대략 16%인 것을 확인할 수 있다"
   ]
  },
  {
   "cell_type": "markdown",
   "metadata": {},
   "source": [
    "### Bar plot"
   ]
  },
  {
   "cell_type": "code",
   "execution_count": 69,
   "metadata": {
    "ExecuteTime": {
     "end_time": "2020-06-11T07:47:30.086473Z",
     "start_time": "2020-06-11T07:47:29.905112Z"
    }
   },
   "outputs": [],
   "source": [
    "### Poverty rate of each state ###\n",
    "\n",
    "# 가독성을 위해 percentage_people_below_poverty_level -> poverty로 줄임\n",
    "poverty = percentage_people_below_poverty_level\n",
    "\n",
    "# '-'로 표시되는 이상치들을 0.0으로 바꾸고 float형으로 변환\n",
    "poverty.poverty_rate.replace(['-'],0.0,inplace = True)\n",
    "poverty.poverty_rate = poverty.poverty_rate.astype(float)\n",
    "\n",
    "# 각 state 별로 빈곤율을 확인하기 위해 state 리스트 생성\n",
    "area_list = list(poverty['Geographic Area'].unique())\n",
    "area_poverty_ratio = []  # 해당 state의 빈곤율 저장 리스트\n",
    "\n",
    "for area_name in area_list:\n",
    "    x = poverty[poverty['Geographic Area']==area_name]\n",
    "    area_poverty_rate = sum(x.poverty_rate)/len(x)\n",
    "    area_poverty_ratio.append(area_poverty_rate)\n",
    "    \n",
    "data = pd.DataFrame({'area_list': area_list,'area_poverty_ratio':area_poverty_ratio})\n",
    "new_index = (data['area_poverty_ratio'].sort_values(ascending=False)).index.values\n",
    "sorted_data = data.reindex(new_index)"
   ]
  },
  {
   "cell_type": "code",
   "execution_count": 70,
   "metadata": {
    "ExecuteTime": {
     "end_time": "2020-06-11T07:47:32.874864Z",
     "start_time": "2020-06-11T07:47:31.661358Z"
    }
   },
   "outputs": [
    {
     "data": {
      "text/plain": [
       "Text(0.5, 1.0, 'Poverty Rate Given States')"
      ]
     },
     "execution_count": 70,
     "metadata": {},
     "output_type": "execute_result"
    },
    {
     "data": {
      "image/png": "[encoded data removed]",
      "text/plain": [
       "<Figure size 1080x720 with 1 Axes>"
      ]
     },
     "metadata": {
      "needs_background": "light"
     },
     "output_type": "display_data"
    }
   ],
   "source": [
    "# visualization\n",
    "plt.figure(figsize=(15,10))\n",
    "sns.barplot(x=sorted_data['area_list'], y=sorted_data['area_poverty_ratio'])\n",
    "plt.xticks(rotation= 45)\n",
    "plt.xlabel('States')\n",
    "plt.ylabel('Poverty Rate')\n",
    "plt.title('Poverty Rate Given States')"
   ]
  },
  {
   "cell_type": "markdown",
   "metadata": {},
   "source": [
    "## Most common 15 Name or Surname of killed people"
   ]
  },
  {
   "cell_type": "code",
   "execution_count": 76,
   "metadata": {
    "ExecuteTime": {
     "end_time": "2020-06-11T07:54:05.722343Z",
     "start_time": "2020-06-11T07:54:05.692001Z"
    }
   },
   "outputs": [
    {
     "data": {
      "text/html": [
       "<div>\n",
       "<style scoped>\n",
       "    .dataframe tbody tr th:only-of-type {\n",
       "        vertical-align: middle;\n",
       "    }\n",
       "\n",
       "    .dataframe tbody tr th {\n",
       "        vertical-align: top;\n",
       "    }\n",
       "\n",
       "    .dataframe thead th {\n",
       "        text-align: right;\n",
       "    }\n",
       "</style>\n",
       "<table border=\"1\" class=\"dataframe\">\n",
       "  <thead>\n",
       "    <tr style=\"text-align: right;\">\n",
       "      <th></th>\n",
       "      <th>id</th>\n",
       "      <th>age</th>\n",
       "    </tr>\n",
       "  </thead>\n",
       "  <tbody>\n",
       "    <tr>\n",
       "      <th>count</th>\n",
       "      <td>2535.000000</td>\n",
       "      <td>2458.000000</td>\n",
       "    </tr>\n",
       "    <tr>\n",
       "      <th>mean</th>\n",
       "      <td>1445.731755</td>\n",
       "      <td>36.605370</td>\n",
       "    </tr>\n",
       "    <tr>\n",
       "      <th>std</th>\n",
       "      <td>794.259490</td>\n",
       "      <td>13.030774</td>\n",
       "    </tr>\n",
       "    <tr>\n",
       "      <th>min</th>\n",
       "      <td>3.000000</td>\n",
       "      <td>6.000000</td>\n",
       "    </tr>\n",
       "    <tr>\n",
       "      <th>25%</th>\n",
       "      <td>768.500000</td>\n",
       "      <td>26.000000</td>\n",
       "    </tr>\n",
       "    <tr>\n",
       "      <th>50%</th>\n",
       "      <td>1453.000000</td>\n",
       "      <td>34.000000</td>\n",
       "    </tr>\n",
       "    <tr>\n",
       "      <th>75%</th>\n",
       "      <td>2126.500000</td>\n",
       "      <td>45.000000</td>\n",
       "    </tr>\n",
       "    <tr>\n",
       "      <th>max</th>\n",
       "      <td>2822.000000</td>\n",
       "      <td>91.000000</td>\n",
       "    </tr>\n",
       "  </tbody>\n",
       "</table>\n",
       "</div>"
      ],
      "text/plain": [
       "                id          age\n",
       "count  2535.000000  2458.000000\n",
       "mean   1445.731755    36.605370\n",
       "std     794.259490    13.030774\n",
       "min       3.000000     6.000000\n",
       "25%     768.500000    26.000000\n",
       "50%    1453.000000    34.000000\n",
       "75%    2126.500000    45.000000\n",
       "max    2822.000000    91.000000"
      ]
     },
     "execution_count": 76,
     "metadata": {},
     "output_type": "execute_result"
    }
   ],
   "source": [
    "kill.describe()"
   ]
  },
  {
   "cell_type": "code",
   "execution_count": 80,
   "metadata": {
    "ExecuteTime": {
     "end_time": "2020-06-11T07:56:41.206198Z",
     "start_time": "2020-06-11T07:56:41.190314Z"
    }
   },
   "outputs": [
    {
     "data": {
      "text/plain": [
       "TK TK                        49\n",
       "Daquan Antonio Westbrook      2\n",
       "Michael Brown                 2\n",
       "Brandon Jones                 2\n",
       "Michael Johnson               2\n",
       "                             ..\n",
       "Manford \"Butch\" Moore Jr.     1\n",
       "Stephen Steele                1\n",
       "David  Winesett               1\n",
       "Gilbert Heredia               1\n",
       "Joshua Deysie                 1\n",
       "Name: name, Length: 2481, dtype: int64"
      ]
     },
     "execution_count": 80,
     "metadata": {},
     "output_type": "execute_result"
    }
   ],
   "source": [
    "kill.name.value_counts()"
   ]
  },
  {
   "cell_type": "code",
   "execution_count": null,
   "metadata": {},
   "outputs": [],
   "source": []
  }
 ],
 "metadata": {
  "kernelspec": {
   "display_name": "Python [conda env:kaggle_my] *",
   "language": "python",
   "name": "conda-env-kaggle_my-py"
  },
  "language_info": {
   "codemirror_mode": {
    "name": "ipython",
    "version": 3
   },
   "file_extension": ".py",
   "mimetype": "text/x-python",
   "name": "python",
   "nbconvert_exporter": "python",
   "pygments_lexer": "ipython3",
   "version": "3.7.0"
  },
  "toc": {
   "base_numbering": 1,
   "nav_menu": {},
   "number_sections": true,
   "sideBar": true,
   "skip_h1_title": false,
   "title_cell": "Table of Contents",
   "title_sidebar": "Contents",
   "toc_cell": false,
   "toc_position": {},
   "toc_section_display": true,
   "toc_window_display": false
  }
 },
 "nbformat": 4,
 "nbformat_minor": 4
}
